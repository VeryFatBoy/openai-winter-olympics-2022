{
 "cells": [
  {
   "cell_type": "code",
   "execution_count": null,
   "metadata": {
    "cell_id": "5c94dd17eca94ed28b088cbaf11a2ad3",
    "deepnote_cell_type": "code"
   },
   "outputs": [],
   "source": [
    "!pip install openai --quiet\n",
    "!pip install singlestoredb --quiet"
   ]
  },
  {
   "cell_type": "code",
   "execution_count": null,
   "metadata": {
    "cell_id": "58f587606f3a444795d04a1744d99d9b",
    "deepnote_cell_type": "code",
    "deepnote_to_be_reexecuted": false,
    "execution_millis": 544,
    "execution_start": 1683014064888,
    "source_hash": "5a2b71ef"
   },
   "outputs": [],
   "source": [
    "import ast\n",
    "import openai\n",
    "import os\n",
    "import pandas as pd\n",
    "from scipy import spatial\n",
    "\n",
    "# models\n",
    "EMBEDDING_MODEL = \"text-embedding-ada-002\"\n",
    "GPT_MODEL = \"gpt-3.5-turbo\""
   ]
  },
  {
   "cell_type": "code",
   "execution_count": null,
   "metadata": {
    "cell_id": "7336c20f77424d0687191b354b235547",
    "deepnote_cell_type": "code",
    "deepnote_to_be_reexecuted": false,
    "execution_millis": 159,
    "execution_start": 1683014002144,
    "source_hash": "89b732fd"
   },
   "outputs": [],
   "source": [
    "openai.api_key = os.environ[\"OPENAI_API_KEY\"]"
   ]
  },
  {
   "cell_type": "markdown",
   "metadata": {
    "cell_id": "ff74e3bc822e4a098b1faceb3c3705f9",
    "deepnote_cell_type": "markdown"
   },
   "source": [
    "## 1. Prepare search data"
   ]
  },
  {
   "cell_type": "code",
   "execution_count": null,
   "metadata": {
    "cell_id": "00b735c2fbbf44f68872134e16e98119",
    "deepnote_cell_type": "code",
    "deepnote_to_be_reexecuted": false,
    "execution_millis": 11356,
    "execution_start": 1683013095633,
    "source_hash": "c312e47c"
   },
   "outputs": [],
   "source": [
    "# download pre-chunked text and pre-computed embeddings\n",
    "# this file is ~200 MB, so may take a minute depending on your connection speed\n",
    "embeddings_path = \"https://cdn.openai.com/API/examples/data/winter_olympics_2022.csv\"\n",
    "\n",
    "df = pd.read_csv(embeddings_path)"
   ]
  },
  {
   "cell_type": "code",
   "execution_count": null,
   "metadata": {
    "cell_id": "81f3434c48a14dcd8dd5adebea316754",
    "deepnote_cell_type": "code",
    "deepnote_to_be_reexecuted": false,
    "execution_millis": 62300,
    "execution_start": 1683013150430,
    "source_hash": "24d5a95"
   },
   "outputs": [],
   "source": [
    "# convert embeddings from CSV str type back to list type\n",
    "df['embedding'] = df['embedding'].apply(ast.literal_eval)"
   ]
  },
  {
   "cell_type": "code",
   "execution_count": null,
   "metadata": {
    "cell_id": "9fa9126ba71547e08a8d00d216d5317e",
    "deepnote_cell_type": "code",
    "deepnote_to_be_reexecuted": false,
    "execution_millis": 11660,
    "execution_start": 1683013299883,
    "source_hash": "d681ce4b"
   },
   "outputs": [],
   "source": [
    "# the dataframe has two columns: \"text\" and \"embedding\"\n",
    "df"
   ]
  },
  {
   "cell_type": "markdown",
   "metadata": {
    "cell_id": "f8c9807fd2cb4181a76f7f173e1867e5",
    "deepnote_cell_type": "markdown"
   },
   "source": [
    "## 2. Search"
   ]
  },
  {
   "cell_type": "code",
   "execution_count": null,
   "metadata": {
    "cell_id": "592ec612769945f4b365b419f6a2a8e8",
    "deepnote_cell_type": "code",
    "deepnote_to_be_reexecuted": false,
    "execution_millis": 437,
    "execution_start": 1683016714198,
    "source_hash": "9082e2a3"
   },
   "outputs": [],
   "source": [
    "import singlestoredb as s2\n",
    "\n",
    "conn = s2.connect(\"admin:<password>@<host>:3306/openai_demo\")\n",
    "\n",
    "cur = conn.cursor()"
   ]
  },
  {
   "cell_type": "code",
   "execution_count": null,
   "metadata": {
    "cell_id": "f805a05225e64c0a801f99b21d593011",
    "deepnote_cell_type": "code",
    "deepnote_to_be_reexecuted": false,
    "execution_millis": 1059,
    "execution_start": 1683015045507,
    "source_hash": "df100219"
   },
   "outputs": [],
   "source": [
    "stmt = \"\"\"\n",
    "    CREATE TABLE IF NOT EXISTS winter_olympics_2022 (\n",
    "        id INT PRIMARY KEY,\n",
    "        text TEXT CHARACTER SET utf8mb4 COLLATE utf8mb4_general_ci,\n",
    "        embedding BLOB\n",
    "    )\n",
    "\"\"\"\n",
    "\n",
    "cur.execute(stmt)"
   ]
  },
  {
   "cell_type": "code",
   "execution_count": null,
   "metadata": {
    "cell_id": "8ac63baee540443387fbb64f7e27d109",
    "deepnote_cell_type": "code",
    "deepnote_to_be_reexecuted": false,
    "execution_millis": 491465,
    "execution_start": 1683015644632,
    "source_hash": "525848b8"
   },
   "outputs": [],
   "source": [
    "# Prepare the statement\n",
    "stmt = \"\"\"\n",
    "    INSERT INTO winter_olympics_2022 (\n",
    "        id,\n",
    "        text,\n",
    "        embedding\n",
    "    )\n",
    "    VALUES (\n",
    "        %s,\n",
    "        %s,\n",
    "        JSON_ARRAY_PACK_F64(%s)\n",
    "    )\n",
    "\"\"\"\n",
    "\n",
    "# Convert the DataFrame to a NumPy record array\n",
    "record_arr = df.to_records(index=True)\n",
    "\n",
    "# Set the batch size\n",
    "batch_size = 1000\n",
    "\n",
    "# Iterate over the rows of the record array in batches\n",
    "for i in range(0, len(record_arr), batch_size):\n",
    "    batch = record_arr[i:i+batch_size]\n",
    "    values = [(\n",
    "        row[0],\n",
    "        row[1],\n",
    "        str(row[2])\n",
    "    ) for row in batch]\n",
    "    cur.executemany(stmt, values)"
   ]
  },
  {
   "cell_type": "code",
   "execution_count": null,
   "metadata": {
    "cell_id": "ed4795a83e3243228e931b9b2317931f",
    "deepnote_cell_type": "code",
    "deepnote_to_be_reexecuted": false,
    "execution_millis": 0,
    "execution_start": 1683016694053,
    "source_hash": "bb168bd2"
   },
   "outputs": [],
   "source": [
    "from typing import Tuple, List\n",
    "\n",
    "# search function\n",
    "def strings_ranked_by_relatedness(\n",
    "    query: str,\n",
    "    df: pd.DataFrame,\n",
    "    relatedness_fn=lambda x, y: 1 - spatial.distance.cosine(x, y),\n",
    "    top_n: int = 100\n",
    ") -> Tuple[List[str], List[float]]:\n",
    "    \"\"\"Returns a list of strings and relatednesses, sorted from most related to least.\"\"\"\n",
    "    query_embedding_response = openai.Embedding.create(\n",
    "        model=EMBEDDING_MODEL,\n",
    "        input=query,\n",
    "    )\n",
    "    query_embedding = query_embedding_response[\"data\"][0][\"embedding\"]\n",
    "\n",
    "    # Create the SQL statement\n",
    "    stmt = \"\"\"\n",
    "        SELECT\n",
    "            text,\n",
    "            DOT_PRODUCT_F64(JSON_ARRAY_PACK_F64(%s), embedding) AS score\n",
    "        FROM winter_olympics_2022\n",
    "        ORDER BY score DESC\n",
    "        LIMIT %s\n",
    "    \"\"\"\n",
    "\n",
    "    # Execute the SQL statement\n",
    "    cur.execute(stmt, [str(query_embedding), top_n])\n",
    "\n",
    "    # Get the results\n",
    "    results = cur.fetchall()\n",
    "\n",
    "    # Separate the results into two lists\n",
    "    strings = [row[0] for row in results]\n",
    "    relatednesses = [row[1] for row in results]\n",
    "\n",
    "    # Return the results\n",
    "    return strings[:top_n], relatednesses[:top_n]"
   ]
  },
  {
   "cell_type": "code",
   "execution_count": null,
   "metadata": {
    "cell_id": "1392bbf9f8714369b08f38493b85a796",
    "deepnote_cell_type": "code",
    "deepnote_to_be_reexecuted": false,
    "execution_millis": 542,
    "execution_start": 1683016721135,
    "source_hash": "6fd4e2e8"
   },
   "outputs": [],
   "source": [
    "# examples\n",
    "strings, relatednesses = strings_ranked_by_relatedness(\"curling gold medal\", df, top_n=5)\n",
    "for string, relatedness in zip(strings, relatednesses):\n",
    "    print(f\"{relatedness=:.3f}\")\n",
    "    display(string)"
   ]
  },
  {
   "cell_type": "markdown",
   "metadata": {},
   "source": [
    "## License\n",
    "\n",
    "Small code sections in this notebook are from [Question answering using embeddings-based search](https://github.com/openai/openai-cookbook/blob/main/examples/Question_answering_using_embeddings.ipynb) from OpenAI.\n",
    "\n",
    "MIT License\n",
    "\n",
    "Copyright (c) 2023 OpenAI\n",
    "\n",
    "Permission is hereby granted, free of charge, to any person obtaining a copy of this software and associated documentation files (the \"Software\"), to deal in the Software without restriction, including without limitation the rights to use, copy, modify, merge, publish, distribute, sublicense, and/or sell copies of the Software, and to permit persons to whom the Software is furnished to do so, subject to the following conditions:\n",
    "\n",
    "The above copyright notice and this permission notice shall be included in all copies or substantial portions of the Software.\n",
    "\n",
    "THE SOFTWARE IS PROVIDED \"AS IS\", WITHOUT WARRANTY OF ANY KIND, EXPRESS OR IMPLIED, INCLUDING BUT NOT LIMITED TO THE WARRANTIES OF MERCHANTABILITY, FITNESS FOR A PARTICULAR PURPOSE AND NONINFRINGEMENT. IN NO EVENT SHALL THE AUTHORS OR COPYRIGHT HOLDERS BE LIABLE FOR ANY CLAIM, DAMAGES OR OTHER LIABILITY, WHETHER IN AN ACTION OF CONTRACT, TORT OR OTHERWISE, ARISING FROM, OUT OF OR IN CONNECTION WITH THE SOFTWARE OR THE USE OR OTHER DEALINGS IN THE SOFTWARE."
   ]
  }
 ],
 "metadata": {
  "deepnote": {},
  "deepnote_execution_queue": [],
  "deepnote_notebook_id": "ebc9b41a416444ab942c24e06ff49caa",
  "kernelspec": {
   "display_name": "Python 3 (ipykernel)",
   "language": "python",
   "name": "python3"
  },
  "language_info": {
   "codemirror_mode": {
    "name": "ipython",
    "version": 3
   },
   "file_extension": ".py",
   "mimetype": "text/x-python",
   "name": "python",
   "nbconvert_exporter": "python",
   "pygments_lexer": "ipython3",
   "version": "3.8.10"
  }
 },
 "nbformat": 4,
 "nbformat_minor": 1
}
